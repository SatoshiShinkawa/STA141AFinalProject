{
  "nbformat": 4,
  "nbformat_minor": 0,
  "metadata": {
    "colab": {
      "provenance": [],
      "include_colab_link": true
    },
    "kernelspec": {
      "name": "ir",
      "display_name": "R"
    },
    "language_info": {
      "name": "R"
    }
  },
  "cells": [
    {
      "cell_type": "markdown",
      "metadata": {
        "id": "view-in-github",
        "colab_type": "text"
      },
      "source": [
        "<a href=\"https://colab.research.google.com/github/SatoshiShinkawa/STA141AFinalProject/blob/main/STA160HeartDisease.ipynb\" target=\"_parent\"><img src=\"https://colab.research.google.com/assets/colab-badge.svg\" alt=\"Open In Colab\"/></a>"
      ]
    },
    {
      "cell_type": "code",
      "execution_count": null,
      "metadata": {
        "colab": {
          "base_uri": "https://localhost:8080/",
          "height": 34
        },
        "id": "C_CfIZaHqHi-",
        "outputId": "44bb7160-8bfc-46fb-f7a2-352b623a35f9"
      },
      "outputs": [
        {
          "output_type": "display_data",
          "data": {
            "text/html": [
              "3.6"
            ],
            "text/markdown": "3.6",
            "text/latex": "3.6",
            "text/plain": [
              "[1] 3.6"
            ]
          },
          "metadata": {}
        }
      ],
      "source": [
        "x = c(1,3,4,5,5)\n",
        "mean(x)"
      ]
    }
  ]
}